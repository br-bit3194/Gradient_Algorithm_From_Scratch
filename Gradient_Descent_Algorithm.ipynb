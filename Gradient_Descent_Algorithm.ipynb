{
 "cells": [
  {
   "cell_type": "code",
   "execution_count": 1,
   "metadata": {},
   "outputs": [],
   "source": [
    "import numpy as np"
   ]
  },
  {
   "cell_type": "markdown",
   "metadata": {},
   "source": [
    "## Squared Error loss as a loss funcation"
   ]
  },
  {
   "cell_type": "markdown",
   "metadata": {},
   "source": [
    "$ Loss(\\theta) = \\sum_i (y_i - yhat_i)^2$"
   ]
  },
  {
   "cell_type": "code",
   "execution_count": 6,
   "metadata": {},
   "outputs": [],
   "source": [
    "X = [0.5, 2.5]\n",
    "Y = [0.2, 0.9]\n",
    "\n",
    "def f(w, b, x):\n",
    "    #sigmoid function\n",
    "    return 1.0 / (1.0 + np.exp( -(np.dot(w,x)+b) ) )\n",
    "\n",
    "def error(w,b):\n",
    "    err = 0.0\n",
    "    for x,y in zip(X,Y):\n",
    "        fx = f(w,b,x)\n",
    "        err += 0.5 * (fx-y)**2\n",
    "    return err\n",
    "\n",
    "def grad_w(w,b,x,y):\n",
    "    fx = f(w,b,x)\n",
    "    return ( (fx-y) * (fx) * (1-fx) * x )\n",
    "\n",
    "def grad_b(w,b,x,y):\n",
    "    fx = f(w,b,x)\n",
    "    return ( (fx-y) * (fx) * (1-fx) )\n",
    "\n",
    "def grad_descent_algo():\n",
    "    w, b, eta = -2,-2,1.0\n",
    "    max_epochs = 1000\n",
    "    for i in range(max_epochs):\n",
    "        dw, db = 0.0, 0.0\n",
    "        for x,y in zip(X,Y):\n",
    "            dw += grad_w(w,b,x,y)\n",
    "            db += grad_b(w,b,x,y)\n",
    "        w = w - eta * dw\n",
    "        b = b - eta * db\n",
    "    return w,b"
   ]
  },
  {
   "cell_type": "code",
   "execution_count": 7,
   "metadata": {},
   "outputs": [],
   "source": [
    "w,b = grad_descent_algo()"
   ]
  },
  {
   "cell_type": "code",
   "execution_count": 8,
   "metadata": {},
   "outputs": [
    {
     "data": {
      "text/plain": [
       "(1.7917198301022377, -2.2821180729166732)"
      ]
     },
     "execution_count": 8,
     "metadata": {},
     "output_type": "execute_result"
    }
   ],
   "source": [
    "w,b"
   ]
  },
  {
   "cell_type": "code",
   "execution_count": 9,
   "metadata": {},
   "outputs": [
    {
     "data": {
      "text/plain": [
       "2.4291865713546816e-11"
      ]
     },
     "execution_count": 9,
     "metadata": {},
     "output_type": "execute_result"
    }
   ],
   "source": [
    "error(w,b)"
   ]
  },
  {
   "cell_type": "code",
   "execution_count": 10,
   "metadata": {},
   "outputs": [
    {
     "data": {
      "text/plain": [
       "0.20000579258360626"
      ]
     },
     "execution_count": 10,
     "metadata": {},
     "output_type": "execute_result"
    }
   ],
   "source": [
    "f(w,b,X[0])"
   ]
  },
  {
   "cell_type": "code",
   "execution_count": 11,
   "metadata": {},
   "outputs": [
    {
     "data": {
      "text/plain": [
       "[0.2, 0.9]"
      ]
     },
     "execution_count": 11,
     "metadata": {},
     "output_type": "execute_result"
    }
   ],
   "source": [
    "Y"
   ]
  },
  {
   "cell_type": "code",
   "execution_count": 12,
   "metadata": {},
   "outputs": [
    {
     "data": {
      "text/plain": [
       "0.8999961231834462"
      ]
     },
     "execution_count": 12,
     "metadata": {},
     "output_type": "execute_result"
    }
   ],
   "source": [
    "f(w,b,X[1])"
   ]
  },
  {
   "cell_type": "code",
   "execution_count": 16,
   "metadata": {},
   "outputs": [
    {
     "data": {
      "text/plain": [
       "0.9975273768433653"
      ]
     },
     "execution_count": 16,
     "metadata": {},
     "output_type": "execute_result"
    }
   ],
   "source": [
    "f([1,2,3],1,[2,1,1/3])"
   ]
  },
  {
   "cell_type": "markdown",
   "metadata": {},
   "source": [
    "## Cross Entropy as loss function"
   ]
  },
  {
   "cell_type": "markdown",
   "metadata": {},
   "source": [
    "$ Loss(\\theta) = -[(1-y)log_2(1-yhat) + ylog_2(yhat)]$"
   ]
  },
  {
   "cell_type": "code",
   "execution_count": 13,
   "metadata": {},
   "outputs": [],
   "source": [
    "import math"
   ]
  },
  {
   "cell_type": "code",
   "execution_count": 31,
   "metadata": {},
   "outputs": [],
   "source": [
    "def f(w, b, x):\n",
    "    #sigmoid function\n",
    "    return 1.0 / (1.0 + np.exp( -(np.dot(w,x)+b) ) )\n",
    "\n",
    "def error(w,b):\n",
    "    err = 0.0\n",
    "    for x,y in zip(X,Y):\n",
    "        fx = f(w,b,x)\n",
    "        err += -((1-y)*math.log2(1-fx) + y*math.log2(fx))\n",
    "    return err\n",
    "\n",
    "def grad_w(w,b,x,y):\n",
    "    fx = f(w,b,x)\n",
    "    return ((fx-y)*x)\n",
    "\n",
    "def grad_b(w,b,x,y):\n",
    "    fx = f(w,b,x)\n",
    "    return (fx-y)\n",
    "\n",
    "def grad_descent_algo():\n",
    "    w, b, eta = -2,-2,0.25\n",
    "    max_epochs = 1000\n",
    "    for i in range(max_epochs):\n",
    "        dw, db = 0.0, 0.0\n",
    "        for x,y in zip(X,Y):\n",
    "            dw += grad_w(w,b,x,y)\n",
    "            db += grad_b(w,b,x,y)\n",
    "        w = w - eta * dw\n",
    "        b = b - eta * db\n",
    "    return w,b"
   ]
  },
  {
   "cell_type": "code",
   "execution_count": 32,
   "metadata": {},
   "outputs": [],
   "source": [
    "w,b = grad_descent_algo()"
   ]
  },
  {
   "cell_type": "code",
   "execution_count": 33,
   "metadata": {},
   "outputs": [
    {
     "data": {
      "text/plain": [
       "1.1909236884766434"
      ]
     },
     "execution_count": 33,
     "metadata": {},
     "output_type": "execute_result"
    }
   ],
   "source": [
    "error(w,b)"
   ]
  },
  {
   "cell_type": "code",
   "execution_count": 34,
   "metadata": {},
   "outputs": [
    {
     "data": {
      "text/plain": [
       "0.8999999996017852"
      ]
     },
     "execution_count": 34,
     "metadata": {},
     "output_type": "execute_result"
    }
   ],
   "source": [
    "f(w,b,X[1])"
   ]
  },
  {
   "cell_type": "code",
   "execution_count": 35,
   "metadata": {},
   "outputs": [
    {
     "data": {
      "text/plain": [
       "0.9"
      ]
     },
     "execution_count": 35,
     "metadata": {},
     "output_type": "execute_result"
    }
   ],
   "source": [
    "Y[1]"
   ]
  },
  {
   "cell_type": "code",
   "execution_count": null,
   "metadata": {},
   "outputs": [],
   "source": []
  }
 ],
 "metadata": {
  "kernelspec": {
   "display_name": "Python 3",
   "language": "python",
   "name": "python3"
  },
  "language_info": {
   "codemirror_mode": {
    "name": "ipython",
    "version": 3
   },
   "file_extension": ".py",
   "mimetype": "text/x-python",
   "name": "python",
   "nbconvert_exporter": "python",
   "pygments_lexer": "ipython3",
   "version": "3.8.5"
  }
 },
 "nbformat": 4,
 "nbformat_minor": 4
}
